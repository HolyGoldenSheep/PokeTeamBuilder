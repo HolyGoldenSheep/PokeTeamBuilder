{
 "cells": [
  {
   "cell_type": "code",
   "execution_count": 13,
   "id": "e65d7f1e-82a7-4d35-90f3-228d61fe6888",
   "metadata": {},
   "outputs": [],
   "source": [
    "import requests\n",
    "import csv\n",
    "import pandas as pd"
   ]
  },
  {
   "cell_type": "code",
   "execution_count": 8,
   "id": "59dcfed9-3005-48c5-8cc8-3286a0ebd63c",
   "metadata": {},
   "outputs": [],
   "source": [
    "def get_pokemon_info(pokemon_name):\n",
    "    url = f\"https://pokeapi.co/api/v2/pokemon/{pokemon_name.lower()}\"\n",
    "    response = requests.get(url)\n",
    "    \n",
    "    if response.status_code == 200:\n",
    "        pokemon_data = response.json()\n",
    "        pokemon_info = {\n",
    "            \"abilities\": [ability[\"ability\"][\"name\"] for ability in pokemon_data[\"abilities\"]],\n",
    "            \"moves\": [type_data[\"move\"][\"name\"] for move_data in pokemon_data[\"moves\"]]\n",
    "        }\n",
    "        return pokemon_info\n",
    "    else:\n",
    "        return None"
   ]
  },
  {
   "cell_type": "code",
   "execution_count": null,
   "id": "6b2fefd3-4bac-4698-b9f2-4eb538cd14e5",
   "metadata": {},
   "outputs": [],
   "source": [
    "import requests\n",
    "import csv\n",
    "import pandas as pd\n",
    "# Function to fetch the list of all Pokémon names\n",
    "def get_all_pokemon_names():\n",
    "    pokemon_names = []\n",
    "    url = \"https://pokeapi.co/api/v2/pokemon?limit=1025\"  # Limit to 1025 Pokémon which is the number of pokemon in the pokedex \n",
    "    while url:\n",
    "        response = requests.get(url)\n",
    "        if response.status_code == 200:\n",
    "            data = response.json()\n",
    "            pokemon_names.extend([pokemon[\"name\"] for pokemon in data[\"results\"]])\n",
    "            url = data[\"next\"]  # Get the next page \n",
    "        else:\n",
    "            print(\"Error fetching Pokémon list.\")\n",
    "            break\n",
    "    return pokemon_names\n",
    "\n",
    "# Function to fetch abilities and moves for a specific Pokémon\n",
    "def get_pokemon_info(pokemon_name):\n",
    "    url = f\"https://pokeapi.co/api/v2/pokemon/{pokemon_name.lower()}\"\n",
    "    response = requests.get(url)\n",
    "    \n",
    "    if response.status_code == 200:\n",
    "        pokemon_data = response.json()\n",
    "        pokemon_info = {\n",
    "            \"abilities\": [ability[\"ability\"][\"name\"] for ability in pokemon_data[\"abilities\"]],\n",
    "            \"moves\": [move_data[\"move\"][\"name\"] for move_data in pokemon_data[\"moves\"]]\n",
    "        }\n",
    "        return pokemon_info\n",
    "    else:\n",
    "        return None\n",
    "\n",
    "# Function to save the Pokémon info into a single CSV file\n",
    "def save_all_to_csv():\n",
    "    pokemon_names = get_all_pokemon_names()\n",
    "    \n",
    "    # Define the header for the CSV file\n",
    "    header = [\"Pokemon Name\", \"Abilities\", \"Moves\"]\n",
    "    \n",
    "    # Open the CSV file to write the data\n",
    "    with open(\"all_pokemon_info.csv\", mode=\"w\", newline=\"\", encoding=\"utf-8\") as file:\n",
    "        writer = csv.writer(file)\n",
    "        writer.writerow(header)\n",
    "        \n",
    "        # Loop through all Pokémon and fetch their data\n",
    "        for pokemon_name in pokemon_names:\n",
    "            pokemon_info = get_pokemon_info(pokemon_name)\n",
    "            \n",
    "            if pokemon_info:\n",
    "                abilities = ', '.join(pokemon_info[\"abilities\"])\n",
    "                moves = ', '.join(pokemon_info[\"moves\"])\n",
    "                writer.writerow([pokemon_name, abilities, moves])\n",
    "                print(f\"Data for {pokemon_name} saved.\")\n",
    "            else:\n",
    "                print(f\"Could not retrieve data for {pokemon_name}.\")\n",
    "                \n",
    "    print(\"All Pokémon data saved to all_pokemon_info.csv.\")\n",
    "\n",
    "# Run the function to save all Pokémon data into one CSV file\n",
    "save_all_to_csv()\n"
   ]
  },
  {
   "cell_type": "code",
   "execution_count": 14,
   "id": "e4b1c719-8a51-4f11-a944-9f8d19cd02a3",
   "metadata": {},
   "outputs": [],
   "source": [
    "df = pd.read_csv(\"all_pokemon_info.csv\")"
   ]
  },
  {
   "cell_type": "code",
   "execution_count": 15,
   "id": "6fb9193b-0399-45ea-b7a5-a68105482cde",
   "metadata": {},
   "outputs": [
    {
     "data": {
      "text/html": [
       "<div>\n",
       "<style scoped>\n",
       "    .dataframe tbody tr th:only-of-type {\n",
       "        vertical-align: middle;\n",
       "    }\n",
       "\n",
       "    .dataframe tbody tr th {\n",
       "        vertical-align: top;\n",
       "    }\n",
       "\n",
       "    .dataframe thead th {\n",
       "        text-align: right;\n",
       "    }\n",
       "</style>\n",
       "<table border=\"1\" class=\"dataframe\">\n",
       "  <thead>\n",
       "    <tr style=\"text-align: right;\">\n",
       "      <th></th>\n",
       "      <th>Pokemon Name</th>\n",
       "      <th>Abilities</th>\n",
       "      <th>Moves</th>\n",
       "    </tr>\n",
       "  </thead>\n",
       "  <tbody>\n",
       "    <tr>\n",
       "      <th>0</th>\n",
       "      <td>bulbasaur</td>\n",
       "      <td>overgrow, chlorophyll</td>\n",
       "      <td>razor-wind, swords-dance, cut, bind, vine-whip...</td>\n",
       "    </tr>\n",
       "    <tr>\n",
       "      <th>1</th>\n",
       "      <td>ivysaur</td>\n",
       "      <td>overgrow, chlorophyll</td>\n",
       "      <td>swords-dance, cut, bind, vine-whip, headbutt, ...</td>\n",
       "    </tr>\n",
       "    <tr>\n",
       "      <th>2</th>\n",
       "      <td>venusaur</td>\n",
       "      <td>overgrow, chlorophyll</td>\n",
       "      <td>swords-dance, cut, bind, vine-whip, headbutt, ...</td>\n",
       "    </tr>\n",
       "    <tr>\n",
       "      <th>3</th>\n",
       "      <td>charmander</td>\n",
       "      <td>blaze, solar-power</td>\n",
       "      <td>mega-punch, fire-punch, thunder-punch, scratch...</td>\n",
       "    </tr>\n",
       "    <tr>\n",
       "      <th>4</th>\n",
       "      <td>charmeleon</td>\n",
       "      <td>blaze, solar-power</td>\n",
       "      <td>mega-punch, fire-punch, thunder-punch, scratch...</td>\n",
       "    </tr>\n",
       "    <tr>\n",
       "      <th>...</th>\n",
       "      <td>...</td>\n",
       "      <td>...</td>\n",
       "      <td>...</td>\n",
       "    </tr>\n",
       "    <tr>\n",
       "      <th>1299</th>\n",
       "      <td>ogerpon-cornerstone-mask</td>\n",
       "      <td>sturdy</td>\n",
       "      <td>swords-dance, slam, vine-whip, double-kick, ta...</td>\n",
       "    </tr>\n",
       "    <tr>\n",
       "      <th>1300</th>\n",
       "      <td>terapagos-terastal</td>\n",
       "      <td>tera-shell</td>\n",
       "      <td>headbutt, body-slam, take-down, double-edge, r...</td>\n",
       "    </tr>\n",
       "    <tr>\n",
       "      <th>1301</th>\n",
       "      <td>terapagos-stellar</td>\n",
       "      <td>teraform-zero</td>\n",
       "      <td>headbutt, body-slam, take-down, double-edge, r...</td>\n",
       "    </tr>\n",
       "    <tr>\n",
       "      <th>1302</th>\n",
       "      <td>frillish-female</td>\n",
       "      <td>NaN</td>\n",
       "      <td>NaN</td>\n",
       "    </tr>\n",
       "    <tr>\n",
       "      <th>1303</th>\n",
       "      <td>jellicent-female</td>\n",
       "      <td>NaN</td>\n",
       "      <td>NaN</td>\n",
       "    </tr>\n",
       "  </tbody>\n",
       "</table>\n",
       "<p>1304 rows × 3 columns</p>\n",
       "</div>"
      ],
      "text/plain": [
       "                  Pokemon Name              Abilities  \\\n",
       "0                    bulbasaur  overgrow, chlorophyll   \n",
       "1                      ivysaur  overgrow, chlorophyll   \n",
       "2                     venusaur  overgrow, chlorophyll   \n",
       "3                   charmander     blaze, solar-power   \n",
       "4                   charmeleon     blaze, solar-power   \n",
       "...                        ...                    ...   \n",
       "1299  ogerpon-cornerstone-mask                 sturdy   \n",
       "1300        terapagos-terastal             tera-shell   \n",
       "1301         terapagos-stellar          teraform-zero   \n",
       "1302           frillish-female                    NaN   \n",
       "1303          jellicent-female                    NaN   \n",
       "\n",
       "                                                  Moves  \n",
       "0     razor-wind, swords-dance, cut, bind, vine-whip...  \n",
       "1     swords-dance, cut, bind, vine-whip, headbutt, ...  \n",
       "2     swords-dance, cut, bind, vine-whip, headbutt, ...  \n",
       "3     mega-punch, fire-punch, thunder-punch, scratch...  \n",
       "4     mega-punch, fire-punch, thunder-punch, scratch...  \n",
       "...                                                 ...  \n",
       "1299  swords-dance, slam, vine-whip, double-kick, ta...  \n",
       "1300  headbutt, body-slam, take-down, double-edge, r...  \n",
       "1301  headbutt, body-slam, take-down, double-edge, r...  \n",
       "1302                                                NaN  \n",
       "1303                                                NaN  \n",
       "\n",
       "[1304 rows x 3 columns]"
      ]
     },
     "execution_count": 15,
     "metadata": {},
     "output_type": "execute_result"
    }
   ],
   "source": [
    "df"
   ]
  },
  {
   "cell_type": "code",
   "execution_count": 26,
   "id": "25c3e410-846f-49fc-bd24-11028662bab2",
   "metadata": {},
   "outputs": [],
   "source": [
    "table = pd.read_csv('pokemon_data_with_images.csv')"
   ]
  },
  {
   "cell_type": "code",
   "execution_count": 28,
   "id": "eae27150-b3d7-43c8-8a2a-8d5070613d12",
   "metadata": {},
   "outputs": [],
   "source": [
    "table['splitted_types'] = table['Types'].map(lambda x : x.split(', '))"
   ]
  },
  {
   "cell_type": "code",
   "execution_count": 34,
   "id": "3e6e5035-daea-4339-bbc6-aa87f6c28960",
   "metadata": {},
   "outputs": [],
   "source": [
    "all_types = []"
   ]
  },
  {
   "cell_type": "code",
   "execution_count": 36,
   "id": "98320f02-8f79-4cba-80a6-3a68a91dadc5",
   "metadata": {},
   "outputs": [],
   "source": [
    "for cell in table.splitted_types:\n",
    "    all_types += cell"
   ]
  },
  {
   "cell_type": "code",
   "execution_count": 38,
   "id": "5ef9e346-40ea-4ec6-9110-54f8140c97e8",
   "metadata": {},
   "outputs": [
    {
     "data": {
      "text/plain": [
       "['Rock',\n",
       " 'Ice',\n",
       " 'Ghost',\n",
       " 'Normal',\n",
       " 'Ground',\n",
       " 'Fairy',\n",
       " 'Steel',\n",
       " 'Fire',\n",
       " 'Dark',\n",
       " 'Psychic',\n",
       " 'Fighting',\n",
       " 'Grass',\n",
       " 'Dragon',\n",
       " 'Flying',\n",
       " 'Electric',\n",
       " 'Bug',\n",
       " 'Poison',\n",
       " 'Water']"
      ]
     },
     "execution_count": 38,
     "metadata": {},
     "output_type": "execute_result"
    }
   ],
   "source": [
    "list(set(all_types))"
   ]
  },
  {
   "cell_type": "code",
   "execution_count": null,
   "id": "c45b9a25-b7b7-4118-a581-a1072b7aaf31",
   "metadata": {},
   "outputs": [],
   "source": []
  },
  {
   "cell_type": "code",
   "execution_count": null,
   "id": "25c0e09b-14a2-48e4-976e-d05a6fdaa0e7",
   "metadata": {},
   "outputs": [],
   "source": []
  }
 ],
 "metadata": {
  "kernelspec": {
   "display_name": "Python 3 (ipykernel)",
   "language": "python",
   "name": "python3"
  },
  "language_info": {
   "codemirror_mode": {
    "name": "ipython",
    "version": 3
   },
   "file_extension": ".py",
   "mimetype": "text/x-python",
   "name": "python",
   "nbconvert_exporter": "python",
   "pygments_lexer": "ipython3",
   "version": "3.12.4"
  }
 },
 "nbformat": 4,
 "nbformat_minor": 5
}
