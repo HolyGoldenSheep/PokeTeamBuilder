{
 "cells": [
  {
   "cell_type": "code",
   "execution_count": null,
   "id": "3d443ce8-ae52-4051-a0a5-96ba1bca2b08",
   "metadata": {},
   "outputs": [],
   "source": [
    "# SQL requests \n",
    "import requests\n",
    "import mysql.connector\n",
    "from mysql.connector import Error\n",
    "from dotenv import load_dotenv\n",
    "import os\n",
    "import pandas as pd\n",
    "\n",
    "# Load .env file to environment\n",
    "load_dotenv()\n",
    "\n",
    "# Access the MySQL credentials\n",
    "SQL_USERNAME = os.getenv('SQL_USERNAME')\n",
    "SQL_PASSWORD = os.getenv('SQL_PASSWORD')\n",
    "SQL_HOST = os.getenv('SQL_HOST')\n",
    "\n",
    "# Connect to the MySQL database\n",
    "conn = mysql.connector.connect(\n",
    "    host=f'{SQL_HOST}',\n",
    "    database='pokemon_project_db',\n",
    "    user=f'{SQL_USERNAME}',\n",
    "    password=f'{SQL_PASSWORD}'\n",
    ")\n",
    "cursor = conn.cursor()\n",
    "\n",
    "# Retrieve All Pokémon with Their Types \n",
    "sql_command = \"\"\"\n",
    "SELECT p.pokemon_id, p.name, GROUP_CONCAT(t.type_name ORDER BY t.type_name SEPARATOR ', ') AS types\n",
    "FROM Pokemon p\n",
    "JOIN Pokemon_Types pt ON p.pokemon_id = pt.pokemon_id\n",
    "JOIN Types t ON pt.type_id = t.type_id\n",
    "GROUP BY p.pokemon_id, p.name\n",
    "ORDER BY p.pokemon_id;\n",
    "\"\"\"\n",
    "cursor.execute(sql_command)\n",
    "results = cursor.fetchall()\n",
    "print(results)  \n",
    "\n",
    "# Find All Pokémon with a Specific Ability\n",
    "sql_command = \"\"\"\n",
    "SELECT p.pokemon_id, p.name, a.ability_name\n",
    "FROM Pokemon p\n",
    "JOIN Pokemon_Abilities pa ON p.pokemon_id = pa.pokemon_id\n",
    "JOIN Abilities a ON pa.ability_id = a.ability_id\n",
    "WHERE a.ability_name = 'Overgrow';\n",
    "\"\"\"\n",
    "cursor.execute(sql_command)\n",
    "results = cursor.fetchall()\n",
    "print(results)  \n",
    "\n",
    "# Close the connection\n",
    "conn.close()"
   ]
  },
  {
   "cell_type": "code",
   "execution_count": 5,
   "id": "52d6c813-e0be-495d-9597-e94916ffc04f",
   "metadata": {},
   "outputs": [
    {
     "name": "stdout",
     "output_type": "stream",
     "text": [
      "[(19, 'Rattata'), (20, 'Raticate'), (25, 'Pikachu'), (26, 'Raichu'), (29, 'Nidoran♀'), (30, 'Nidorina'), (31, 'Nidoqueen'), (32, 'Nidoran♂'), (33, 'Nidorino'), (34, 'Nidoking'), (35, 'Clefairy'), (36, 'Clefable'), (39, 'Jigglypuff'), (40, 'Wigglytuff'), (52, 'Meowth'), (53, 'Persian'), (56, 'Mankey'), (57, 'Primeape'), (81, 'Magnemite'), (82, 'Magneton'), (88, 'Grimer'), (89, 'Muk'), (92, 'Gastly'), (93, 'Haunter'), (94, 'Gengar'), (100, 'Voltorb'), (101, 'Electrode'), (108, 'Lickitung'), (109, 'Koffing'), (110, 'Weezing'), (111, 'Rhyhorn'), (112, 'Rhydon'), (113, 'Chansey'), (115, 'Kangaskhan'), (120, 'Staryu'), (121, 'Starmie'), (122, 'Mr. Mime'), (125, 'Electabuzz'), (128, 'Tauros'), (130, 'Gyarados'), (131, 'Lapras'), (135, 'Jolteon'), (137, 'Porygon'), (143, 'Snorlax'), (145, 'Zapdos'), (147, 'Dratini'), (148, 'Dragonair'), (149, 'Dragonite'), (150, 'Mewtwo'), (151, 'Mew'), (161, 'Sentret'), (162, 'Furret'), (170, 'Chinchou'), (171, 'Lanturn'), (172, 'Pichu'), (179, 'Mareep'), (180, 'Flaaffy'), (181, 'Ampharos'), (190, 'Aipom'), (200, 'Misdreavus'), (203, 'Girafarig'), (206, 'Dunsparce'), (209, 'Snubbull'), (210, 'Granbull'), (233, 'Porygon2'), (234, 'Stantler'), (239, 'Elekid'), (241, 'Miltank'), (242, 'Blissey'), (243, 'Raikou'), (248, 'Tyranitar'), (249, 'Lugia'), (250, 'Ho-oh'), (263, 'Zigzagoon'), (264, 'Linoone'), (280, 'Ralts'), (281, 'Kirlia'), (282, 'Gardevoir'), (287, 'Slakoth'), (288, 'Vigoroth'), (289, 'Slaking'), (299, 'Nosepass'), (300, 'Skitty'), (301, 'Delcatty'), (306, 'Aggron'), (309, 'Electrike'), (310, 'Manectric'), (311, 'Plusle'), (312, 'Minun'), (313, 'Volbeat'), (314, 'Illumise'), (335, 'Zangoose'), (351, 'Castform'), (352, 'Kecleon'), (353, 'Shuppet'), (354, 'Banette'), (359, 'Absol'), (377, 'Regirock'), (378, 'Regice'), (379, 'Registeel'), (380, 'Latias'), (381, 'Latios'), (382, 'Kyogre'), (383, 'Groudon'), (384, 'Rayquaza'), (385, 'Jirachi'), (386, 'Deoxys'), (399, 'Bidoof'), (400, 'Bibarel'), (403, 'Shinx'), (404, 'Luxio'), (405, 'Luxray'), (408, 'Cranidos'), (409, 'Rampardos'), (410, 'Shieldon'), (411, 'Bastiodon'), (417, 'Pachirisu'), (424, 'Ambipom'), (425, 'Drifloon'), (426, 'Drifblim'), (427, 'Buneary'), (428, 'Lopunny'), (429, 'Mismagius'), (431, 'Glameow'), (432, 'Purugly'), (439, 'Mime Jr.'), (446, 'Munchlax'), (462, 'Magnezone'), (463, 'Lickilicky'), (464, 'Rhyperior'), (466, 'Electivire'), (467, 'Magmortar'), (474, 'Porygon-Z'), (475, 'Gallade'), (476, 'Probopass'), (478, 'Froslass'), (479, 'Rotom'), (480, 'Uxie'), (481, 'Mesprit'), (482, 'Azelf'), (483, 'Dialga'), (484, 'Palkia'), (486, 'Regigigas'), (487, 'Giratina'), (488, 'Cresselia'), (491, 'Darkrai'), (493, 'Arceus'), (494, 'Victini'), (504, 'Patrat'), (505, 'Watchog'), (506, 'Lillipup'), (507, 'Herdier'), (508, 'Stoutland'), (522, 'Blitzle'), (523, 'Zebstrika'), (531, 'Audino'), (569, 'Garbodor'), (572, 'Minccino'), (573, 'Cinccino'), (574, 'Gothita'), (575, 'Gothorita'), (576, 'Gothitelle'), (587, 'Emolga'), (595, 'Joltik'), (596, 'Galvantula'), (597, 'Ferroseed'), (598, 'Ferrothorn'), (599, 'Klink'), (600, 'Klang'), (601, 'Klinklang'), (603, 'Eelektrik'), (604, 'Eelektross'), (605, 'Elgyem'), (606, 'Beheeyem'), (618, 'Stunfisk'), (623, 'Golurk'), (642, 'Thundurus'), (644, 'Zekrom'), (648, 'Meloetta'), (649, 'Genesect'), (677, 'Espurr'), (678, 'Meowstic'), (682, 'Spritzee'), (683, 'Aromatisse'), (684, 'Swirlix'), (685, 'Slurpuff'), (686, 'Inkay'), (687, 'Malamar'), (690, 'Skrelp'), (691, 'Dragalge'), (694, 'Helioptile'), (695, 'Heliolisk'), (698, 'Amaura'), (699, 'Aurorus'), (702, 'Dedenne'), (704, 'Goomy'), (705, 'Sliggoo'), (706, 'Goodra'), (716, 'Xerneas'), (720, 'Hoopa'), (736, 'Grubbin'), (737, 'Charjabug'), (738, 'Vikavolt'), (765, 'Oranguru'), (773, 'Silvally'), (777, 'Togedemaru'), (778, 'Mimikyu'), (780, 'Drampa'), (785, 'Tapu Koko'), (786, 'Tapu Lele'), (791, 'Solgaleo'), (792, 'Lunala'), (793, 'Nihilego'), (796, 'Xurkitree'), (801, 'Magearna'), (804, 'Naganadel'), (807, 'Zeraora'), (808, 'Meltan'), (809, 'Melmetal'), (835, 'Yamper'), (836, 'Boltund'), (849, 'Toxtricity'), (862, 'Obstagoon'), (863, 'Perrserker'), (866, 'Mr. Rime'), (871, 'Pincurchin'), (877, 'Morpeko'), (880, 'Dracozolt'), (881, 'Arctozolt'), (884, 'Duraludon'), (886, 'Drakloak'), (887, 'Dragapult'), (894, 'Regieleki'), (899, 'Wyrdeer'), (921, 'Pawmi'), (922, 'Pawmo'), (923, 'Pawmot'), (938, 'Tadbulb'), (939, 'Bellibolt'), (940, 'Wattrel'), (941, 'Kilowattrel'), (967, 'Cyclizar'), (979, 'Annihilape'), (981, 'Farigiraf'), (982, 'Dudunsparce'), (985, 'Scream Tail'), (987, 'Flutter Mane'), (989, 'Sandy Shocks'), (992, 'Iron Hands'), (995, 'Iron Thorns'), (1000, 'Gholdengo'), (1006, 'Iron Valiant'), (1008, 'Miraidon'), (1018, 'Archaludon'), (1021, 'Raging Bolt'), (1024, 'Terapagos')]\n"
     ]
    }
   ],
   "source": [
    "# SQL requests \n",
    "import requests\n",
    "import mysql.connector\n",
    "from mysql.connector import Error\n",
    "from dotenv import load_dotenv\n",
    "import os\n",
    "import pandas as pd\n",
    "\n",
    "# Load .env file to environment\n",
    "load_dotenv()\n",
    "\n",
    "# Access the MySQL credentials\n",
    "SQL_USERNAME = os.getenv('SQL_USERNAME')\n",
    "SQL_PASSWORD = os.getenv('SQL_PASSWORD')\n",
    "SQL_HOST = os.getenv('SQL_HOST')\n",
    "\n",
    "# Connect to the MySQL database\n",
    "conn = mysql.connector.connect(\n",
    "    host=f'{SQL_HOST}',\n",
    "    database='pokemon_project_db',\n",
    "    user=f'{SQL_USERNAME}',\n",
    "    password=f'{SQL_PASSWORD}'\n",
    ")\n",
    "cursor = conn.cursor()\n",
    "\n",
    "\n",
    "# Define the SQL query with a placeholder (%s)\n",
    "sql_command = \"\"\"\n",
    "    SELECT p.pokedex, p.name \n",
    "    FROM pokemon p\n",
    "    JOIN pokemon_moves pm ON p.pokemon_id = pm.pokemon_id\n",
    "    JOIN moves m ON pm.move_id = m.move_id\n",
    "    WHERE m.move_name = %s\n",
    "    ORDER BY p.pokedex\n",
    "\"\"\"\n",
    "\n",
    "# Define the move name\n",
    "move_name = (\"Thunderbolt\",)  \n",
    "\n",
    "# Execute the query with the parameter\n",
    "cursor.execute(sql_command, move_name)\n",
    "\n",
    "# Fetch results\n",
    "results = cursor.fetchall()\n",
    "print(results)\n",
    "\n",
    "# Close the connection\n",
    "conn.close()\n"
   ]
  },
  {
   "cell_type": "code",
   "execution_count": null,
   "id": "2beb1c83-9093-4cb9-8aaf-2d9dc4910743",
   "metadata": {},
   "outputs": [],
   "source": []
  },
  {
   "cell_type": "code",
   "execution_count": null,
   "id": "70211e77-dac1-42eb-ad3a-e2069343c186",
   "metadata": {},
   "outputs": [],
   "source": []
  },
  {
   "cell_type": "code",
   "execution_count": null,
   "id": "cbee36c3-4a88-47c8-9e1d-e0de00c6e946",
   "metadata": {},
   "outputs": [],
   "source": []
  },
  {
   "cell_type": "code",
   "execution_count": null,
   "id": "258fcfb7-7fa4-449e-9fe1-5a1c4b48c83f",
   "metadata": {},
   "outputs": [],
   "source": []
  },
  {
   "cell_type": "code",
   "execution_count": null,
   "id": "7ceb8fb8-fba3-4751-aa9d-6faf00123cfa",
   "metadata": {},
   "outputs": [],
   "source": []
  },
  {
   "cell_type": "code",
   "execution_count": 3,
   "id": "148fef39-df46-4a86-8d2d-023769e72816",
   "metadata": {},
   "outputs": [
    {
     "name": "stdout",
     "output_type": "stream",
     "text": [
      "This mythical Pokémon is so rare, only a few experts worldwide have found it, though a growing number of people have reportedly seen it recently. It apparently originates from South America. It is said that it appears only to those who have a true heart and a strong passion to see it. Its DNA is said to contain the genetic code of every Pokémon and every move. Because of this, many scientists believe that it is the ancestor of all Pokémon. Its fine, small, and delicate hairs can be viewed with a microscope. It is capable of turning invisible at will so that people are unaware of its presence. It is considered one of the original progenitor Pokémon, as all Pokémon are said to have descended from Mew.\n"
     ]
    }
   ],
   "source": [
    "# Requests with MONGODB\n",
    "import pymongo\n",
    "import pandas as pd \n",
    "from pymongo import MongoClient\n",
    "from dotenv import load_dotenv\n",
    "import os \n",
    "\n",
    "# Load .env file to environment\n",
    "load_dotenv()\n",
    "\n",
    "# Access the MongoDB username and password\n",
    "MONGODB_USERNAME = os.getenv('MONGODB_USERNAME')\n",
    "MONGODB_PASSWORD = os.getenv('MONGODB_PASSWORD')\n",
    "MONGODB_CLUSTER = os.getenv('MONGODB_CLUSTER')\n",
    "MONGODB_HOST =  os.getenv('MONGODB_HOST')\n",
    "\n",
    "# MongoDB connection setup\n",
    "client = MongoClient(f'mongodb+srv://{MONGODB_USERNAME}:{MONGODB_PASSWORD}@{MONGODB_HOST}?retryWrites=true&w=majority&appName={MONGODB_CLUSTER}')\n",
    "\n",
    "# Select database and collections\n",
    "db = client[\"pokemon_project_db\"]\n",
    "image_collection = db[\"Image URL\"]\n",
    "description_collection = db[\"Descriptions\"]\n",
    "\n",
    "\n",
    "pokedex_number = 151\n",
    "description = description_collection.find_one({\"Pokedex_Number\": pokedex_number})\n",
    "\n",
    "if description:\n",
    "    print(description[\"Description\"])\n",
    "else:\n",
    "    print(\"No description found.\")"
   ]
  },
  {
   "cell_type": "code",
   "execution_count": 4,
   "id": "78fc47df-dd9e-4ca7-8bea-00b3f39564a1",
   "metadata": {},
   "outputs": [
    {
     "name": "stdout",
     "output_type": "stream",
     "text": [
      "                        _id  Pokedex_Number  \\\n",
      "0  67a613dc229b3b2913821c2a            25.0   \n",
      "\n",
      "                                           Image URL  \n",
      "0  https://img.pokemondb.net/sprites/home/normal/...  \n"
     ]
    }
   ],
   "source": [
    "from PIL import Image \n",
    "pokedex_number = 25  \n",
    "image_urls = image_collection.find({\"Pokedex_Number\": pokedex_number})\n",
    "\n",
    "# Convert to a DataFrame for better readability\n",
    "df_images = pd.DataFrame(image_urls)\n",
    "print(df_images)"
   ]
  },
  {
   "cell_type": "code",
   "execution_count": 5,
   "id": "515139ff-0a8a-411d-b468-296495da6c1a",
   "metadata": {},
   "outputs": [
    {
     "name": "stdout",
     "output_type": "stream",
     "text": [
      "No image found for this Pokédex number.\n"
     ]
    }
   ],
   "source": [
    "import requests\n",
    "from PIL import Image\n",
    "from io import BytesIO\n",
    "\n",
    "# Fetch image URL from MongoDB using Pokédex number\n",
    "pokedex_number = 1\n",
    "image_data = image_collection.find_one({\"Pokedex_Number\": pokedex_number})\n",
    "\n",
    "# Check if an image URL exists\n",
    "if image_data and \"image_url\" in image_data:\n",
    "    image_url = image_data[\"image_url\"]\n",
    "    \n",
    "    # Download the image\n",
    "    response = requests.get(image_url)\n",
    "    if response.status_code == 200:\n",
    "        img = Image.open(BytesIO(response.content))\n",
    "        img.show()\n",
    "    else:\n",
    "        print(\"Failed to download image.\")\n",
    "else:\n",
    "    print(\"No image found for this Pokédex number.\")"
   ]
  },
  {
   "cell_type": "code",
   "execution_count": 6,
   "id": "25ecc3d1-8ee5-4934-9eb5-c66bfa6f7ba5",
   "metadata": {},
   "outputs": [
    {
     "data": {
      "text/plain": [
       "'https://img.pokemondb.net/sprites/home/normal/2x/pikachu.jpg'"
      ]
     },
     "execution_count": 6,
     "metadata": {},
     "output_type": "execute_result"
    }
   ],
   "source": [
    "df_images['Image URL'][0]"
   ]
  },
  {
   "cell_type": "code",
   "execution_count": null,
   "id": "f2fbe831-7ab4-4d96-9a43-e8457af436e7",
   "metadata": {},
   "outputs": [],
   "source": []
  },
  {
   "cell_type": "code",
   "execution_count": null,
   "id": "c4cddc07-d49d-4dea-9c9f-e39856f72bd8",
   "metadata": {},
   "outputs": [],
   "source": []
  }
 ],
 "metadata": {
  "kernelspec": {
   "display_name": "Python 3 (ipykernel)",
   "language": "python",
   "name": "python3"
  },
  "language_info": {
   "codemirror_mode": {
    "name": "ipython",
    "version": 3
   },
   "file_extension": ".py",
   "mimetype": "text/x-python",
   "name": "python",
   "nbconvert_exporter": "python",
   "pygments_lexer": "ipython3",
   "version": "3.12.4"
  }
 },
 "nbformat": 4,
 "nbformat_minor": 5
}
