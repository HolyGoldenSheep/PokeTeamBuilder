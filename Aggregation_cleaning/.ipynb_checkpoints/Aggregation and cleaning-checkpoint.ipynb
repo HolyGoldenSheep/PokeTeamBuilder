{
 "cells": [
  {
   "cell_type": "code",
   "execution_count": 2,
   "id": "674d9c35-59a8-4e6d-9de6-e5c53285e370",
   "metadata": {},
   "outputs": [],
   "source": [
    "import requests\n",
    "import mysql.connector\n",
    "from mysql.connector import Error\n",
    "from dotenv import load_dotenv\n",
    "import os\n",
    "import pandas as pd"
   ]
  },
  {
   "cell_type": "code",
   "execution_count": 3,
   "id": "75b47a6f-fe2e-4ca5-9673-beb9ae794450",
   "metadata": {},
   "outputs": [],
   "source": [
    "df_webscrap_description = pd.read_csv(\"all_pokemon_notes.csv\")"
   ]
  },
  {
   "cell_type": "code",
   "execution_count": 4,
   "id": "9b0b6c62-7ccc-43c9-8e70-616aa808dc30",
   "metadata": {},
   "outputs": [],
   "source": [
    "df_public_api = pd.read_csv(\"all_pokemon_info.csv\")"
   ]
  },
  {
   "cell_type": "code",
   "execution_count": 5,
   "id": "813588da-c67a-416b-a2d6-2019c9a67950",
   "metadata": {},
   "outputs": [],
   "source": [
    "df_webscrap = pd.read_csv(\"pokemon_data_with_images.csv\")"
   ]
  },
  {
   "cell_type": "code",
   "execution_count": null,
   "id": "4056f7ab-e9f5-4e21-babb-839e9e05297c",
   "metadata": {},
   "outputs": [],
   "source": [
    "df_public_api"
   ]
  },
  {
   "cell_type": "code",
   "execution_count": null,
   "id": "80206356-3f94-4958-88a0-27e8891d7680",
   "metadata": {},
   "outputs": [],
   "source": [
    "df_webscrap"
   ]
  },
  {
   "cell_type": "code",
   "execution_count": null,
   "id": "94e01b48-7fd9-42e1-8cb6-cbff51a12bfd",
   "metadata": {},
   "outputs": [],
   "source": [
    "df_webscrap_description"
   ]
  },
  {
   "cell_type": "code",
   "execution_count": 9,
   "id": "1fd1513f-9d86-4388-a3a6-2c9a4986ef20",
   "metadata": {},
   "outputs": [
    {
     "data": {
      "text/plain": [
       "Pokemon Name                                            pecharunt\n",
       "Abilities                                        poison-puppeteer\n",
       "Moves           toxic, night-shade, recover, withdraw, defense...\n",
       "Name: 1024, dtype: object"
      ]
     },
     "execution_count": 9,
     "metadata": {},
     "output_type": "execute_result"
    }
   ],
   "source": [
    "df_public_api.loc[1024]"
   ]
  },
  {
   "cell_type": "code",
   "execution_count": 10,
   "id": "2d11db04-09cd-4ed8-b90a-b87b41ff376e",
   "metadata": {},
   "outputs": [],
   "source": [
    "df_webscrap_description = pd.read_csv(\"all_pokemon_notes.csv\")\n",
    "df_public_api = pd.read_csv(\"all_pokemon_info.csv\")\n",
    "df_webscrap = pd.read_csv(\"pokemon_data_with_images.csv\")\n",
    "# Select specific columns from each DataFrame\n",
    "df1_selected = df_webscrap[['Pokédex Number', 'Pokémon Name', 'Types', 'Image URL']]\n",
    "df2_selected = df_public_api[['Abilities', 'Moves']]\n",
    "df3_selected = df_webscrap_description[['Description']]\n",
    "\n",
    "# Concatenate the selected columns horizontally\n",
    "final_df = pd.concat([df1_selected, df2_selected, df3_selected], axis=1)\n",
    "final_df = final_df.reset_index(drop=True)"
   ]
  },
  {
   "cell_type": "code",
   "execution_count": 11,
   "id": "c3c4fd7a-7d8d-4cd5-a173-19982e94c6d2",
   "metadata": {},
   "outputs": [],
   "source": [
    "final_df = final_df.reset_index(drop=True)"
   ]
  },
  {
   "cell_type": "code",
   "execution_count": null,
   "id": "b30c9045-dae9-40e2-8c91-0e336d21ba0b",
   "metadata": {},
   "outputs": [],
   "source": [
    "final_df"
   ]
  },
  {
   "cell_type": "code",
   "execution_count": 13,
   "id": "033ff2db-4452-456d-b721-cc2c6ce9f40f",
   "metadata": {},
   "outputs": [],
   "source": [
    "final_df=final_df.loc[:1024]"
   ]
  },
  {
   "cell_type": "code",
   "execution_count": null,
   "id": "d2d96a1c-170f-455a-941f-77f9a52d2a34",
   "metadata": {},
   "outputs": [],
   "source": [
    "final_df"
   ]
  },
  {
   "cell_type": "code",
   "execution_count": 34,
   "id": "70c6b8b0-6175-4b0d-b067-2daa9f0d5ad1",
   "metadata": {},
   "outputs": [],
   "source": [
    "all_types = []\n",
    "\n",
    "for cell in final_df['Types'].map(lambda cell: cell.split(', ')):\n",
    "    all_types += cell"
   ]
  },
  {
   "cell_type": "code",
   "execution_count": 36,
   "id": "2d4efbfd-fffa-4cfb-b3e8-914ebf5af58a",
   "metadata": {},
   "outputs": [
    {
     "data": {
      "text/plain": [
       "0          [Grass, Poison]\n",
       "1          [Grass, Poison]\n",
       "2          [Grass, Poison]\n",
       "3                   [Fire]\n",
       "4                   [Fire]\n",
       "               ...        \n",
       "1020    [Electric, Dragon]\n",
       "1021       [Rock, Psychic]\n",
       "1022      [Steel, Psychic]\n",
       "1023              [Normal]\n",
       "1024       [Poison, Ghost]\n",
       "Name: Types, Length: 1025, dtype: object"
      ]
     },
     "execution_count": 36,
     "metadata": {},
     "output_type": "execute_result"
    }
   ],
   "source": [
    "all_types = []\n",
    "\n",
    "for cell in final_df['Types'].map(lambda cell: cell.split(', ')):\n",
    "    all_types += cell\n",
    "final_df['Types'].map(lambda cell: cell.split(', '))\n",
    "list(set(all_types))"
   ]
  },
  {
   "cell_type": "code",
   "execution_count": 38,
   "id": "7325a220-22e0-43f6-9a14-f2b449a347d0",
   "metadata": {},
   "outputs": [
    {
     "data": {
      "text/plain": [
       "['Steel',\n",
       " 'Flying',\n",
       " 'Ghost',\n",
       " 'Psychic',\n",
       " 'Fire',\n",
       " 'Water',\n",
       " 'Electric',\n",
       " 'Ice',\n",
       " 'Dark',\n",
       " 'Bug',\n",
       " 'Fighting',\n",
       " 'Grass',\n",
       " 'Fairy',\n",
       " 'Rock',\n",
       " 'Poison',\n",
       " 'Normal',\n",
       " 'Ground',\n",
       " 'Dragon']"
      ]
     },
     "execution_count": 38,
     "metadata": {},
     "output_type": "execute_result"
    }
   ],
   "source": [
    "list(set(all_types))"
   ]
  },
  {
   "cell_type": "code",
   "execution_count": null,
   "id": "9fe8c3ca-0d42-4083-8eba-b5bff4c13167",
   "metadata": {},
   "outputs": [],
   "source": [
    "# def apply_split_to_columns(df, columns):\n",
    "#     all_values = {column: [] for column in columns}\n",
    "    \n",
    "#     for column in columns:\n",
    "#         for cell in df[column].map(lambda x: x.split(', ')):\n",
    "#             all_values[column] += cell\n",
    "            \n",
    "#         # Update the dataframe with the split values\n",
    "#         df[column] = df[column].map(lambda x: x.split(', '))\n",
    "        \n",
    "#     return df, all_values"
   ]
  },
  {
   "cell_type": "code",
   "execution_count": null,
   "id": "da806e8b-2705-4a39-bf9b-8cc7242897fa",
   "metadata": {},
   "outputs": [],
   "source": [
    "# # Apply to the dataframe\n",
    "# columns_to_split = ['Types', 'Abilities', 'Moves']\n",
    "# final_df, all_values = apply_split_to_columns(final_df, columns_to_split)"
   ]
  },
  {
   "cell_type": "code",
   "execution_count": null,
   "id": "5cb9393d-6992-4398-a606-5250be118d36",
   "metadata": {},
   "outputs": [],
   "source": [
    "def apply_split_to_columns(df, columns):\n",
    "    all_values = {column: [] for column in columns}\n",
    "    unique_values = {column: [] for column in columns}  # Store unique values for each column\n",
    "    \n",
    "    # Iterate over the specified columns and split the values\n",
    "    for column in columns:\n",
    "        for cell in df[column].map(lambda x: x.split(', ')):\n",
    "            all_values[column] += cell\n",
    "        \n",
    "        # Update the dataframe with the split values\n",
    "        df[column] = df[column].map(lambda x: x.split(', '))\n",
    "        \n",
    "        # Store the unique values for the column\n",
    "        unique_values[column] = list(set(all_values[column]))  # Remove duplicates and store unique values\n",
    "    \n",
    "    return df, all_values, unique_values\n",
    "\n",
    "# Apply to the dataframe\n",
    "columns_to_split = ['Types', 'Abilities', 'Moves']\n",
    "final_df, all_values, unique_values = apply_split_to_columns(final_df, columns_to_split)\n",
    "\n",
    "# Print the unique values for each column\n",
    "print(\"Unique Types:\", unique_values['Types'])\n",
    "print(\"Unique Abilities:\", unique_values['Abilities'])\n",
    "print(\"Unique Moves:\", unique_values['Moves'])\n"
   ]
  },
  {
   "cell_type": "code",
   "execution_count": null,
   "id": "17e6ed5e-20b8-4749-bd0b-d97d3aab0dcb",
   "metadata": {},
   "outputs": [],
   "source": [
    "# Print the unique values for each column\n",
    "print(\"Unique Types:\", unique_values['Types'])"
   ]
  },
  {
   "cell_type": "code",
   "execution_count": null,
   "id": "9960288a-8a95-471c-9a11-f7a61c7ccbbb",
   "metadata": {},
   "outputs": [],
   "source": [
    "print(\"Unique Abilities:\", unique_values['Abilities'])"
   ]
  },
  {
   "cell_type": "code",
   "execution_count": null,
   "id": "76211309-5175-4459-af03-3a964c6ae560",
   "metadata": {},
   "outputs": [],
   "source": [
    "print(\"Unique Moves:\", unique_values['Moves'])"
   ]
  },
  {
   "cell_type": "code",
   "execution_count": 33,
   "id": "e16cb117-07d9-45ba-8ecf-6d13e84c8cdf",
   "metadata": {},
   "outputs": [],
   "source": [
    "final_df.to_csv(\"prepared_poke_data.csv\", index=False)"
   ]
  },
  {
   "cell_type": "code",
   "execution_count": 6,
   "id": "ec696b8b-44cb-432a-9be5-c76f71f96f49",
   "metadata": {},
   "outputs": [],
   "source": [
    "# import pandas as pd\n",
    "# import re\n",
    "# from spellchecker import SpellChecker\n",
    "\n",
    "# # Load the CSV file\n",
    "# file_path = \"prepared_poke_data.csv\"  # Change this to the correct path if needed\n",
    "# df = pd.read_csv(file_path)\n",
    "\n",
    "# # Initialize spell checker\n",
    "# spell = SpellChecker()\n",
    "\n",
    "# # Common Pokémon-related terms that should not be altered\n",
    "# pokemon_terms = {\n",
    "#     \"Pokémon\", \"Pikachu\", \"Charizard\", \"Bulbasaur\", \"Squirtle\", \"LeafGreen\",\n",
    "#     \"FireRed\", \"Mega\", \"Evolution\", \"Trainer\", \"Gym\", \"Battle\", \"Super\", \"Smash\", \"Bros\", \"Pokemon\", \"pokemon\", \"Gigantamax\"\n",
    "# }\n",
    "\n",
    "# # Function to fix merged words\n",
    "# def fix_merged_words(text):\n",
    "#     words = re.findall(r\"[A-Za-z]+(?:'[A-Za-z]+)?|[.,!?]\", text)  # Extract words and punctuation separately\n",
    "#     fixed_words = []\n",
    "\n",
    "#     for word in words:\n",
    "#         if word in pokemon_terms or word.lower() in pokemon_terms:  \n",
    "#             fixed_words.append(word)\n",
    "#         elif word not in spell and word.isalpha():  # If word is not recognized\n",
    "#             for i in range(1, len(word)):  # Try splitting into two valid words\n",
    "#                 first, second = word[:i], word[i:]\n",
    "#                 if first in spell and second in spell:\n",
    "#                     fixed_words.extend([first, second])\n",
    "#                     break\n",
    "#             else:\n",
    "#                 fixed_words.append(word)  # Keep original if no split is found\n",
    "#         else:\n",
    "#             fixed_words.append(word)\n",
    "\n",
    "#     return ' '.join(fixed_words)\n",
    "\n",
    "# # Apply function to clean descriptions\n",
    "# df[\"Description\"] = df[\"Description\"].apply(fix_merged_words)\n",
    "\n",
    "# # Save the cleaned file\n",
    "# cleaned_file_path = \"fully_cleaned_poke_data.csv\"\n",
    "# df.to_csv(cleaned_file_path, index=False)\n",
    "\n",
    "# print(f\"Cleaned CSV saved as {cleaned_file_path}\")\n"
   ]
  },
  {
   "cell_type": "code",
   "execution_count": 26,
   "id": "4381f09a-3be2-4093-8a0a-87dbd7fc5acc",
   "metadata": {},
   "outputs": [],
   "source": [
    "import requests\n",
    "import mysql.connector\n",
    "from mysql.connector import Error\n",
    "from dotenv import load_dotenv\n",
    "import os\n",
    "import pandas as pd\n",
    "# Load .env file to environment\n",
    "load_dotenv()\n",
    "\n",
    "# Access the MongoDB username and password\n",
    "SQL_USERNAME = os.getenv('SQL_USERNAME')\n",
    "SQL_PASSWORD = os.getenv('SQL_PASSWORD')\n",
    "SQL_HOST =  os.getenv('SQL_HOST')\n",
    "# Connect to the MySQL database\n",
    "conn = mysql.connector.connect(\n",
    "            host=f'{SQL_HOST}',\n",
    "            database='pokemon_project_db',\n",
    "            user=f'{SQL_USERNAME}',\n",
    "            password=f'{SQL_PASSWORD}'\n",
    "        )\n",
    "cursor = conn.cursor()\n",
    "\n",
    "# Insert unique types into the Types table\n",
    "for type_name in unique_values['Types']:\n",
    "    cursor.execute(\"INSERT INTO Types (type_name) VALUES (%s)\", (type_name,))\n",
    "\n",
    "# Commit the transaction\n",
    "conn.commit()\n",
    "\n",
    "# Now you have the type names inserted into the Types table, and you can fetch their type_ids\n",
    "cursor.execute(\"SELECT type_id, type_name FROM Types\")\n",
    "types = cursor.fetchall()\n",
    "type_dict = {type_name: type_id for type_id, type_name in types}\n",
    "\n",
    "\n",
    "# Commit the final changes\n",
    "conn.commit()\n",
    "\n",
    "# Close the cursor and connection\n",
    "cursor.close()\n",
    "conn.close()\n"
   ]
  },
  {
   "cell_type": "code",
   "execution_count": null,
   "id": "4905f4f6-61d5-4d9a-afa5-65ca6bca5138",
   "metadata": {},
   "outputs": [],
   "source": [
    "\n",
    "#Load csv files\n",
    "df_webscrap_description = pd.read_csv(\"all_pokemon_notes.csv\")\n",
    "df_public_api = pd.read_csv(\"all_pokemon_info.csv\")\n",
    "df_webscrap = pd.read_csv(\"pokemon_data_with_images.csv\")\n",
    "\n",
    "# Select specific columns from each DataFrame\n",
    "df1_selected = df_webscrap[['Pokédex Number', 'Pokémon Name', 'Types', 'Image URL']]\n",
    "df2_selected = df_public_api[['Abilities', 'Moves']]\n",
    "df3_selected = df_webscrap_description[['Description']]\n",
    "\n",
    "# Concatenate the selected columns horizontally\n",
    "final_df = pd.concat([df1_selected, df2_selected, df3_selected], axis=1)\n",
    "final_df = final_df.reset_index(drop=True)\n",
    "\n",
    "#prepare data again\n",
    "def apply_split_to_columns(df, columns):\n",
    "    all_values = {column: [] for column in columns}\n",
    "    unique_values = {column: [] for column in columns}  \n",
    "    \n",
    "    # Iterate over the specified columns and split the values\n",
    "    for column in columns:\n",
    "        for cell in df[column].map(lambda x: x.split(', ')):\n",
    "            all_values[column] += cell\n",
    "        \n",
    "        # Update the dataframe with the split values\n",
    "        df[column] = df[column].map(lambda x: x.split(', '))\n",
    "        \n",
    "        # Store the unique values for the column\n",
    "        unique_values[column] = list(set(all_values[column]))  # Remove duplicates \n",
    "    \n",
    "    return df, all_values, unique_values\n",
    "\n",
    "# Applying to the dataframe\n",
    "columns_to_split = ['Types', 'Abilities', 'Moves']\n",
    "final_df, all_values, unique_values = apply_split_to_columns(final_df, columns_to_split)\n",
    "\n",
    "# Printing the unique values for each column\n",
    "print(\"Unique Types:\", unique_values['Types'])\n",
    "print(\"Unique Abilities:\", unique_values['Abilities'])\n",
    "print(\"Unique Moves:\", unique_values['Moves'])\n",
    "\n",
    "# Load .env file to environment\n",
    "load_dotenv()\n",
    "\n",
    "# Access the MongoDB username and password\n",
    "SQL_USERNAME = os.getenv('SQL_USERNAME')\n",
    "SQL_PASSWORD = os.getenv('SQL_PASSWORD')\n",
    "SQL_HOST =  os.getenv('SQL_HOST')\n",
    "# Connect to the MySQL database\n",
    "conn = mysql.connector.connect(\n",
    "            host=f'{SQL_HOST}',\n",
    "            database='pokemon_project_db',\n",
    "            user=f'{SQL_USERNAME}',\n",
    "            password=f'{SQL_PASSWORD}'\n",
    "        )\n",
    "cursor = conn.cursor()\n",
    "\n",
    "# Inserting unique types into the Types table\n",
    "for type_name in unique_values['Types']:\n",
    "    cursor.execute(\"INSERT INTO Types (type_name) VALUES (%s)\", (type_name,))\n",
    "\n",
    "# Commit the transaction\n",
    "conn.commit()\n",
    "\n",
    "# fetching the type_ids\n",
    "cursor.execute(\"SELECT type_id, type_name FROM Types\")\n",
    "types = cursor.fetchall()\n",
    "type_dict = {type_name: type_id for type_id, type_name in types}\n",
    "\n",
    "# Inserting unique abilities into the Abilities table\n",
    "for ability_name in unique_values['Abilities']:\n",
    "    cursor.execute(\"INSERT INTO Abilities (ability_name) VALUES (%s)\", (ability_name,))\n",
    "\n",
    "# Commit the transaction\n",
    "conn.commit()\n",
    "\n",
    "# fetching the ability_ids\n",
    "cursor.execute(\"SELECT ability_id, ability_name FROM Abilities\")\n",
    "abilities = cursor.fetchall()\n",
    "ability_dict = {ability_name: ability_id for ability_id, ability_name in abilities}\n",
    "\n",
    "# Inserting unique moves into the Moves table\n",
    "for move_name in unique_values['Moves']:\n",
    "    cursor.execute(\"INSERT INTO Moves (move_name) VALUES (%s)\", (move_name,))\n",
    "\n",
    "# Commit the transaction\n",
    "conn.commit()\n",
    "\n",
    "# fetching the move_ids\n",
    "cursor.execute(\"SELECT move_id, move_name FROM Moves\")\n",
    "moves = cursor.fetchall()\n",
    "move_dict = {move_name: move_id for move_id, move_name in moves}\n",
    "\n",
    "#Inserting the pokemon and the pokedex number \n",
    "for index, row in final_df.iterrows():\n",
    "    pokemon_name = row['Pokémon Name']\n",
    "    pokedex = row['Pokédex Number']\n",
    "\n",
    "    # Set default values for height and weight since we don't have data for them\n",
    "    height = 0  # or 0 if you want a default value\n",
    "    weight = 0  # or 0 if you want a default value\n",
    "\n",
    "    # Inserting Pokémon name and Pokedex number into the Pokemon table\n",
    "    cursor.execute(\"\"\"\n",
    "        INSERT INTO Pokemon (name, height, weight, pokedex)\n",
    "        VALUES (%s, %s, %s, %s)\n",
    "    \"\"\", (pokemon_name, height, weight, pokedex))\n",
    "\n",
    "# Commit the final changes\n",
    "conn.commit()\n",
    "\n",
    "# Close the cursor and connection\n",
    "cursor.close()\n",
    "conn.close()\n",
    "\n",
    "\n",
    "#INSERTING DATA TO MONGODB\n",
    "\n",
    "import pymongo\n",
    "import pandas as pd \n",
    "from pymongo import MongoClient\n",
    "from dotenv import load_dotenv\n",
    "import os \n",
    "# Load .env file to environment\n",
    "load_dotenv()\n",
    "\n",
    "# Access the MongoDB username and password\n",
    "MONGODB_USERNAME = os.getenv('MONGODB_USERNAME')\n",
    "MONGODB_PASSWORD = os.getenv('MONGODB_PASSWORD')\n",
    "MONGODB_CLUSTER = os.getenv('MONGODB_CLUSTER')\n",
    "MONGODB_HOST =  os.getenv('MONGODB_HOST')\n",
    "\n",
    "# MongoDB connection setup\n",
    "client = MongoClient(f'mongodb+srv://{MONGODB_USERNAME}:{MONGODB_PASSWORD}@{MONGODB_HOST}?retryWrites=true&w=majority&appName={MONGODB_CLUSTER}')\n",
    "\n",
    "# Select database and collections\n",
    "db = client[\"pokemon_project_db\"]\n",
    "image_collection = db[\"Image URL\"]\n",
    "description_collection = db[\"Descriptions\"]\n",
    "\n",
    "# Load the CSV file\n",
    "file_path = \"C:\\\\Users\\\\Utilisateur\\\\Pokemon bloc one project\\\\Create_DB\\\\prepared_poke_data.csv\"  \n",
    "df = pd.read_csv(file_path)\n",
    "\n",
    "\n",
    "# Prepare Image URL data\n",
    "image_data = df[[\"Pokédex Number\", \"Image URL\"]].rename(columns={\"Pokédex Number\": \"Pokedex_Number\"}).to_dict(orient=\"records\")\n",
    "\n",
    "# Prepare Description data\n",
    "description_data = df[[\"Pokédex Number\", \"Description\"]].rename(columns={\"Pokédex Number\": \"Pokedex_Number\"}).to_dict(orient=\"records\")\n",
    "\n",
    "# Insert data into MongoDB collections\n",
    "if image_data:\n",
    "    image_collection.insert_many(image_data)\n",
    "if description_data:\n",
    "    description_collection.insert_many(description_data)\n",
    "\n",
    "print(\"Data inserted successfully!\")"
   ]
  }
 ],
 "metadata": {
  "kernelspec": {
   "display_name": "Python 3 (ipykernel)",
   "language": "python",
   "name": "python3"
  },
  "language_info": {
   "codemirror_mode": {
    "name": "ipython",
    "version": 3
   },
   "file_extension": ".py",
   "mimetype": "text/x-python",
   "name": "python",
   "nbconvert_exporter": "python",
   "pygments_lexer": "ipython3",
   "version": "3.12.4"
  }
 },
 "nbformat": 4,
 "nbformat_minor": 5
}
